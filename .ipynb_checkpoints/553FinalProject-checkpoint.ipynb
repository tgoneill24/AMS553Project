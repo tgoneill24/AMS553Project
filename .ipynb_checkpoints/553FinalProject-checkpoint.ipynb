{
 "cells": [
  {
   "cell_type": "code",
   "execution_count": 3,
   "id": "2ea9bc58-5ba4-4923-8d68-ab3f5d8d3388",
   "metadata": {},
   "outputs": [],
   "source": [
    "import tkinter as tk\n",
    "from tkinter import *\n",
    "from tkinter import messagebox\n",
    "from tkinter import ttk\n",
    "import numpy as np\n",
    "import random\n",
    "import time"
   ]
  },
  {
   "cell_type": "code",
   "execution_count": 11,
   "id": "ea2a5646-c008-481b-b4fe-06ade8b2cfaa",
   "metadata": {},
   "outputs": [
    {
     "ename": "TclError",
     "evalue": "invalid command name \".!canvas\"",
     "output_type": "error",
     "traceback": [
      "\u001b[1;31m---------------------------------------------------------------------------\u001b[0m",
      "\u001b[1;31mTclError\u001b[0m                                  Traceback (most recent call last)",
      "Cell \u001b[1;32mIn[11], line 36\u001b[0m\n\u001b[0;32m     34\u001b[0m     cars\u001b[38;5;241m.\u001b[39mappend(newCar)\n\u001b[0;32m     35\u001b[0m \u001b[38;5;28;01mfor\u001b[39;00m car \u001b[38;5;129;01min\u001b[39;00m cars:\n\u001b[1;32m---> 36\u001b[0m     \u001b[43mcv\u001b[49m\u001b[38;5;241;43m.\u001b[39;49m\u001b[43mdelete\u001b[49m\u001b[43m(\u001b[49m\u001b[43mcar\u001b[49m\u001b[38;5;241;43m.\u001b[39;49m\u001b[43mgui\u001b[49m\u001b[43m)\u001b[49m\n\u001b[0;32m     37\u001b[0m     car\u001b[38;5;241m.\u001b[39mupdate(dt)\n\u001b[0;32m     38\u001b[0m     \u001b[38;5;28;01mif\u001b[39;00m (car\u001b[38;5;241m.\u001b[39mx\u001b[38;5;241m>\u001b[39m\u001b[38;5;241m500\u001b[39m):\n",
      "File \u001b[1;32mC:\\Program Files\\WindowsApps\\PythonSoftwareFoundation.Python.3.11_3.11.1776.0_x64__qbz5n2kfra8p0\\Lib\\tkinter\\__init__.py:2879\u001b[0m, in \u001b[0;36mCanvas.delete\u001b[1;34m(self, *args)\u001b[0m\n\u001b[0;32m   2877\u001b[0m \u001b[38;5;28;01mdef\u001b[39;00m \u001b[38;5;21mdelete\u001b[39m(\u001b[38;5;28mself\u001b[39m, \u001b[38;5;241m*\u001b[39margs):\n\u001b[0;32m   2878\u001b[0m \u001b[38;5;250m    \u001b[39m\u001b[38;5;124;03m\"\"\"Delete items identified by all tag or ids contained in ARGS.\"\"\"\u001b[39;00m\n\u001b[1;32m-> 2879\u001b[0m     \u001b[38;5;28;43mself\u001b[39;49m\u001b[38;5;241;43m.\u001b[39;49m\u001b[43mtk\u001b[49m\u001b[38;5;241;43m.\u001b[39;49m\u001b[43mcall\u001b[49m\u001b[43m(\u001b[49m\u001b[43m(\u001b[49m\u001b[38;5;28;43mself\u001b[39;49m\u001b[38;5;241;43m.\u001b[39;49m\u001b[43m_w\u001b[49m\u001b[43m,\u001b[49m\u001b[43m \u001b[49m\u001b[38;5;124;43m'\u001b[39;49m\u001b[38;5;124;43mdelete\u001b[39;49m\u001b[38;5;124;43m'\u001b[39;49m\u001b[43m)\u001b[49m\u001b[43m \u001b[49m\u001b[38;5;241;43m+\u001b[39;49m\u001b[43m \u001b[49m\u001b[43margs\u001b[49m\u001b[43m)\u001b[49m\n",
      "\u001b[1;31mTclError\u001b[0m: invalid command name \".!canvas\""
     ]
    }
   ],
   "source": [
    "root = Tk()\n",
    "\n",
    "xrate = .05\n",
    "yrate = .1\n",
    "T = 5000\n",
    "dt = 1\n",
    "cars = []\n",
    "\n",
    "class Car:\n",
    "    def __init__(self, length, x, y, vx, vy, ax, ay, dir):\n",
    "        self.length = length\n",
    "        self.x = x\n",
    "        self.y = y\n",
    "        self.vx = vx\n",
    "        self.vy = vy\n",
    "        self.ax = ax\n",
    "        self.ay = ay\n",
    "        self.dir = dir\n",
    "        self.gui = None\n",
    "    def update(self, dt):\n",
    "        self.x = self.x + self.vx*dt\n",
    "        self.y = self.y + self.vy*dt\n",
    "        self.vx = self.vx + self.ax*dt\n",
    "        self.vy = self.vy + self.ay*dt\n",
    "\n",
    "\n",
    "cv = Canvas(root,height=500, width=500)\n",
    "cv.pack()\n",
    "\n",
    "cars = []\n",
    "while True:\n",
    "    if (random.random() < xrate):\n",
    "        newCar = Car(5,0,250,1,0,0,0,'x')\n",
    "        cars.append(newCar)\n",
    "    for car in cars:\n",
    "        cv.delete(car.gui)\n",
    "        car.update(dt)\n",
    "        if (car.x>500):\n",
    "            cars.remove(car)\n",
    "        else:\n",
    "            car.gui = cv.create_line(car.x-car.length,car.y,car.x,car.y)\n",
    "    root.update()\n",
    "    root.after(10)\n",
    "\n",
    "root.mainloop()\n",
    "\n",
    "\n"
   ]
  },
  {
   "cell_type": "code",
   "execution_count": null,
   "id": "b23de5a1-53f6-4083-9e34-ffd150089792",
   "metadata": {},
   "outputs": [],
   "source": []
  },
  {
   "cell_type": "code",
   "execution_count": null,
   "id": "7688e0f3-b10a-480b-93d8-a754e9d34a53",
   "metadata": {},
   "outputs": [],
   "source": [
    "cars = []\n",
    "for t in range(T):\n",
    "    print(t)\n",
    "    if (random.random() < xrate):\n",
    "        newCar = Car(5,0,0,1,0,0,0,'x')\n",
    "        cars.append(newCar)\n",
    "    for car in cars:\n",
    "        car.update(dt)\n",
    "        if (car.x>10):\n",
    "            cars.remove(car)"
   ]
  }
 ],
 "metadata": {
  "kernelspec": {
   "display_name": "Python 3 (ipykernel)",
   "language": "python",
   "name": "python3"
  },
  "language_info": {
   "codemirror_mode": {
    "name": "ipython",
    "version": 3
   },
   "file_extension": ".py",
   "mimetype": "text/x-python",
   "name": "python",
   "nbconvert_exporter": "python",
   "pygments_lexer": "ipython3",
   "version": "3.11.6"
  }
 },
 "nbformat": 4,
 "nbformat_minor": 5
}
