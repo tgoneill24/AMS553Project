{
 "cells": [
  {
   "cell_type": "code",
   "execution_count": 64,
   "id": "2ea9bc58-5ba4-4923-8d68-ab3f5d8d3388",
   "metadata": {},
   "outputs": [],
   "source": [
    "import tkinter as tk\n",
    "from tkinter import *\n",
    "from tkinter import messagebox\n",
    "from tkinter import ttk\n",
    "import numpy as np\n",
    "import random\n",
    "import time\n",
    "import math"
   ]
  },
  {
   "cell_type": "code",
   "execution_count": 62,
   "id": "ea2a5646-c008-481b-b4fe-06ade8b2cfaa",
   "metadata": {},
   "outputs": [],
   "source": [
    "xrate = .05\n",
    "yrate = .1\n",
    "# Total time in hundredths of a second\n",
    "T = 500\n",
    "dt = 1\n",
    "cars = []\n",
    "random_speeds = False\n",
    "\n",
    "class Car:\n",
    "    def __init__(self, length, x, y, vx, vy, ax, ay, dir):\n",
    "        self.length = length\n",
    "        self.x = x\n",
    "        self.y = y\n",
    "        self.vx = vx\n",
    "        self.vy = vy\n",
    "        self.ax = ax\n",
    "        self.ay = ay\n",
    "        self.dir = dir\n",
    "        self.gui = None\n",
    "    def update(self, dt):\n",
    "        self.x = self.x + self.vx*dt\n",
    "        self.y = self.y + self.vy*dt\n",
    "        self.vx = self.vx + self.ax*dt\n",
    "        self.vy = self.vy + self.ay*dt\n",
    "\n",
    "\n",
    "def run_simulation(T, quit_on_end=False):\n",
    "    total_cars = 0\n",
    "    root = Tk()\n",
    "    root.title(\"Traffic Simulation\")\n",
    "    cv = Canvas(root,height=500, width=500)\n",
    "    cv.pack()\n",
    "    \n",
    "    cars = []\n",
    "    for t in range(T):\n",
    "        if (random.random() < xrate):\n",
    "            total_cars+=1\n",
    "            if random_speeds:\n",
    "                newCar = Car(5,0,250,(random.random()+1)/2,0,0,0,'x')\n",
    "            else:\n",
    "                newCar = Car(5,0,250,1,0,0,0,'x')\n",
    "            cars.append(newCar)\n",
    "        for car in cars:\n",
    "            cv.delete(car.gui)\n",
    "            car.update(dt)\n",
    "            if (car.x>500):\n",
    "                cars.remove(car)\n",
    "            else:\n",
    "                car.gui = cv.create_line(car.x-car.length,car.y,car.x,car.y)\n",
    "        root.update()\n",
    "        root.after(1)\n",
    "    \n",
    "\n",
    "    if quit_on_end:\n",
    "        root.destroy()\n",
    "\n",
    "    return total_cars\n",
    "\n",
    "\n"
   ]
  },
  {
   "cell_type": "code",
   "execution_count": 63,
   "id": "82f823de-8632-40a0-a015-b69d983d9151",
   "metadata": {},
   "outputs": [
    {
     "ename": "KeyboardInterrupt",
     "evalue": "",
     "output_type": "error",
     "traceback": [
      "\u001b[1;31m---------------------------------------------------------------------------\u001b[0m",
      "\u001b[1;31mKeyboardInterrupt\u001b[0m                         Traceback (most recent call last)",
      "Cell \u001b[1;32mIn[63], line 1\u001b[0m\n\u001b[1;32m----> 1\u001b[0m \u001b[43mrun_simulation\u001b[49m\u001b[43m(\u001b[49m\u001b[38;5;241;43m10000\u001b[39;49m\u001b[43m)\u001b[49m\n",
      "Cell \u001b[1;32mIn[62], line 51\u001b[0m, in \u001b[0;36mrun_simulation\u001b[1;34m(T, quit_on_end)\u001b[0m\n\u001b[0;32m     49\u001b[0m             car\u001b[38;5;241m.\u001b[39mgui \u001b[38;5;241m=\u001b[39m cv\u001b[38;5;241m.\u001b[39mcreate_line(car\u001b[38;5;241m.\u001b[39mx\u001b[38;5;241m-\u001b[39mcar\u001b[38;5;241m.\u001b[39mlength,car\u001b[38;5;241m.\u001b[39my,car\u001b[38;5;241m.\u001b[39mx,car\u001b[38;5;241m.\u001b[39my)\n\u001b[0;32m     50\u001b[0m     root\u001b[38;5;241m.\u001b[39mupdate()\n\u001b[1;32m---> 51\u001b[0m     \u001b[43mroot\u001b[49m\u001b[38;5;241;43m.\u001b[39;49m\u001b[43mafter\u001b[49m\u001b[43m(\u001b[49m\u001b[38;5;241;43m1\u001b[39;49m\u001b[43m)\u001b[49m\n\u001b[0;32m     54\u001b[0m \u001b[38;5;28;01mif\u001b[39;00m quit_on_end:\n\u001b[0;32m     55\u001b[0m     root\u001b[38;5;241m.\u001b[39mdestroy()\n",
      "File \u001b[1;32mC:\\Program Files\\WindowsApps\\PythonSoftwareFoundation.Python.3.11_3.11.1776.0_x64__qbz5n2kfra8p0\\Lib\\tkinter\\__init__.py:856\u001b[0m, in \u001b[0;36mMisc.after\u001b[1;34m(self, ms, func, *args)\u001b[0m\n\u001b[0;32m    848\u001b[0m \u001b[38;5;250m\u001b[39m\u001b[38;5;124;03m\"\"\"Call function once after given time.\u001b[39;00m\n\u001b[0;32m    849\u001b[0m \n\u001b[0;32m    850\u001b[0m \u001b[38;5;124;03mMS specifies the time in milliseconds. FUNC gives the\u001b[39;00m\n\u001b[0;32m    851\u001b[0m \u001b[38;5;124;03mfunction which shall be called. Additional parameters\u001b[39;00m\n\u001b[0;32m    852\u001b[0m \u001b[38;5;124;03mare given as parameters to the function call.  Return\u001b[39;00m\n\u001b[0;32m    853\u001b[0m \u001b[38;5;124;03midentifier to cancel scheduling with after_cancel.\"\"\"\u001b[39;00m\n\u001b[0;32m    854\u001b[0m \u001b[38;5;28;01mif\u001b[39;00m func \u001b[38;5;129;01mis\u001b[39;00m \u001b[38;5;28;01mNone\u001b[39;00m:\n\u001b[0;32m    855\u001b[0m     \u001b[38;5;66;03m# I'd rather use time.sleep(ms*0.001)\u001b[39;00m\n\u001b[1;32m--> 856\u001b[0m     \u001b[38;5;28;43mself\u001b[39;49m\u001b[38;5;241;43m.\u001b[39;49m\u001b[43mtk\u001b[49m\u001b[38;5;241;43m.\u001b[39;49m\u001b[43mcall\u001b[49m\u001b[43m(\u001b[49m\u001b[38;5;124;43m'\u001b[39;49m\u001b[38;5;124;43mafter\u001b[39;49m\u001b[38;5;124;43m'\u001b[39;49m\u001b[43m,\u001b[49m\u001b[43m \u001b[49m\u001b[43mms\u001b[49m\u001b[43m)\u001b[49m\n\u001b[0;32m    857\u001b[0m     \u001b[38;5;28;01mreturn\u001b[39;00m \u001b[38;5;28;01mNone\u001b[39;00m\n\u001b[0;32m    858\u001b[0m \u001b[38;5;28;01melse\u001b[39;00m:\n",
      "\u001b[1;31mKeyboardInterrupt\u001b[0m: "
     ]
    }
   ],
   "source": [
    "run_simulation(10000)"
   ]
  },
  {
   "cell_type": "code",
   "execution_count": 53,
   "id": "b23de5a1-53f6-4083-9e34-ffd150089792",
   "metadata": {},
   "outputs": [
    {
     "name": "stdout",
     "output_type": "stream",
     "text": [
      "[26, 31, 25, 19, 23, 20, 21, 24, 22, 24, 17, 28, 19, 29, 20, 28, 15, 25, 23, 27]\n"
     ]
    }
   ],
   "source": [
    "arrivals = []\n",
    "for i in range(20):\n",
    "    arrivals.append(run_simulation(500, quit_on_end=True))\n",
    "\n",
    "print(arrivals)"
   ]
  },
  {
   "cell_type": "code",
   "execution_count": 76,
   "id": "6239325d-5fe3-44b1-8f6b-0aa1f4101698",
   "metadata": {},
   "outputs": [
    {
     "name": "stdout",
     "output_type": "stream",
     "text": [
      "15\n"
     ]
    }
   ],
   "source": [
    "cum_func = 0\n",
    "input = random.random()\n",
    "\n",
    "for j in range(20):\n",
    "    for i in range(50):\n",
    "        dens_func = ((xrate*T)**i)*math.exp(-xrate*T)/math.factorial(i)\n",
    "        cum_func += dens_func\n",
    "        if cum_func > input:\n",
    "            print(i)\n",
    "            break"
   ]
  }
 ],
 "metadata": {
  "kernelspec": {
   "display_name": "Python 3 (ipykernel)",
   "language": "python",
   "name": "python3"
  },
  "language_info": {
   "codemirror_mode": {
    "name": "ipython",
    "version": 3
   },
   "file_extension": ".py",
   "mimetype": "text/x-python",
   "name": "python",
   "nbconvert_exporter": "python",
   "pygments_lexer": "ipython3",
   "version": "3.11.6"
  }
 },
 "nbformat": 4,
 "nbformat_minor": 5
}
