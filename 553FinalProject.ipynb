{
 "cells": [
  {
   "cell_type": "code",
   "execution_count": 1,
   "id": "2ea9bc58-5ba4-4923-8d68-ab3f5d8d3388",
   "metadata": {},
   "outputs": [],
   "source": [
    "import tkinter as tk\n",
    "from tkinter import *\n",
    "from tkinter import messagebox\n",
    "from tkinter import ttk\n",
    "import numpy as np\n",
    "import random\n",
    "import time\n",
    "import math"
   ]
  },
  {
   "cell_type": "code",
   "execution_count": 2,
   "id": "ea2a5646-c008-481b-b4fe-06ade8b2cfaa",
   "metadata": {},
   "outputs": [],
   "source": [
    "class Car:\n",
    "    def __init__(self, length, x, y, vx, vy, ax, ay, dir, status):\n",
    "        self.length = length\n",
    "        self.x = x\n",
    "        self.y = y\n",
    "        self.vx = vx\n",
    "        self.vy = vy\n",
    "        self.ax = ax\n",
    "        self.ay = ay\n",
    "        self.dir = dir\n",
    "        self.gui = None\n",
    "        self.max_a = 2\n",
    "        self.status = status\n",
    "        \n",
    "    def update_pos(self, dt):\n",
    "        self.x = self.x + self.vx*dt\n",
    "        self.y = self.y + self.vy*dt\n",
    "        self.vx = self.vx + self.ax*dt\n",
    "        self.vy = self.vy + self.ay*dt\n",
    "        \n",
    "    def update(self, dt, light):\n",
    "        self.update_pos(dt)\n",
    "\n",
    "    def light_response(self, dt, light, yellowTime, int_x, int_y):\n",
    "        if (self.dir == 'x'):\n",
    "            v = self.vx\n",
    "            s = self.x\n",
    "            i = int_x[0]\n",
    "        elif (self.dir == 'y'):\n",
    "            v = self.vy\n",
    "            s = self.y\n",
    "            i = int_y[0]\n",
    "        if (light != self.dir):\n",
    "            if (s + v*yellowTime-0.5*max_a*yellowTime**2 > i):\n",
    "                status = \"light_go\"\n",
    "                if (self.dir == 'x'):\n",
    "                    ax = -self.max_a\n",
    "                elif (self.dir == 'y'):\n",
    "                    ay = -self.max_a\n",
    "        \n",
    "\n",
    "\n",
    "def run_simulation(T=10000, xrate=.05, yrate=.05, dt = 1, random_speeds = False, quit_on_end=False, int_x=(240,260),int_y=(240,260), lightTime=10):\n",
    "    total_cars = 0\n",
    "    light = 'x'\n",
    "    root = Tk()\n",
    "    root.title(\"Traffic Simulation\")\n",
    "    cv = Canvas(root,height=500, width=500)\n",
    "    cv.pack()\n",
    "    \n",
    "    cars = []\n",
    "    for t in range(T):\n",
    "        if (random.random() < xrate):\n",
    "            total_cars+=1\n",
    "            if random_speeds:\n",
    "                newCar = Car(5,0,250,(random.random()+1)/2,0,0,0,'x',\"go\")\n",
    "            else:\n",
    "                newCar = Car(5,0,250,1,0,0,0,'x',\"go\")\n",
    "            cars.append(newCar)\n",
    "        elif (random.random() < xrate + yrate):\n",
    "            total_cars+=1\n",
    "            if random_speeds:\n",
    "                newCar = Car(5,0,250,(random.random()+1)/2,0,0,0,'x',\"go\")\n",
    "            else:\n",
    "                newCar = Car(5,250,0,0,1,0,0,'y',\"go\")\n",
    "            cars.append(newCar)\n",
    "        for car in cars:\n",
    "            cv.delete(car.gui)\n",
    "            car.update(dt, light)\n",
    "            if (car.x>500):\n",
    "                cars.remove(car)\n",
    "            else:\n",
    "                if (car.dir == 'x'):\n",
    "                    car.gui = cv.create_line(car.x-car.length,car.y,car.x,car.y)\n",
    "                elif (car.dir == 'y'):\n",
    "                    car.gui = cv.create_line(car.x,car.y-car.length,car.x,car.y)\n",
    "        root.update()\n",
    "        root.after(1)\n",
    "\n",
    "        if (t % lightTime == lightTime - 1):\n",
    "                if (light == 'x'):\n",
    "                    light = 'y'\n",
    "                else:\n",
    "                    light = 'x'\n",
    "    \n",
    "\n",
    "    if quit_on_end:\n",
    "        root.destroy()\n",
    "\n",
    "    return total_cars\n",
    "\n",
    "\n"
   ]
  },
  {
   "cell_type": "code",
   "execution_count": 3,
   "id": "82f823de-8632-40a0-a015-b69d983d9151",
   "metadata": {},
   "outputs": [
    {
     "ename": "TclError",
     "evalue": "invalid command name \".!canvas\"",
     "output_type": "error",
     "traceback": [
      "\u001b[1;31m---------------------------------------------------------------------------\u001b[0m",
      "\u001b[1;31mTclError\u001b[0m                                  Traceback (most recent call last)",
      "Cell \u001b[1;32mIn[3], line 1\u001b[0m\n\u001b[1;32m----> 1\u001b[0m \u001b[43mrun_simulation\u001b[49m\u001b[43m(\u001b[49m\u001b[43mT\u001b[49m\u001b[38;5;241;43m=\u001b[39;49m\u001b[38;5;241;43m10000\u001b[39;49m\u001b[43m,\u001b[49m\u001b[43mxrate\u001b[49m\u001b[38;5;241;43m=\u001b[39;49m\u001b[38;5;241;43m.05\u001b[39;49m\u001b[43m,\u001b[49m\u001b[43myrate\u001b[49m\u001b[38;5;241;43m=\u001b[39;49m\u001b[38;5;241;43m.05\u001b[39;49m\u001b[43m)\u001b[49m\n",
      "Cell \u001b[1;32mIn[2], line 68\u001b[0m, in \u001b[0;36mrun_simulation\u001b[1;34m(T, xrate, yrate, dt, random_speeds, quit_on_end, int_x, int_y)\u001b[0m\n\u001b[0;32m     66\u001b[0m     cars\u001b[38;5;241m.\u001b[39mappend(newCar)\n\u001b[0;32m     67\u001b[0m \u001b[38;5;28;01mfor\u001b[39;00m car \u001b[38;5;129;01min\u001b[39;00m cars:\n\u001b[1;32m---> 68\u001b[0m     \u001b[43mcv\u001b[49m\u001b[38;5;241;43m.\u001b[39;49m\u001b[43mdelete\u001b[49m\u001b[43m(\u001b[49m\u001b[43mcar\u001b[49m\u001b[38;5;241;43m.\u001b[39;49m\u001b[43mgui\u001b[49m\u001b[43m)\u001b[49m\n\u001b[0;32m     69\u001b[0m     car\u001b[38;5;241m.\u001b[39mupdate(dt, light)\n\u001b[0;32m     70\u001b[0m     \u001b[38;5;28;01mif\u001b[39;00m (car\u001b[38;5;241m.\u001b[39mx\u001b[38;5;241m>\u001b[39m\u001b[38;5;241m500\u001b[39m):\n",
      "File \u001b[1;32mC:\\Program Files\\WindowsApps\\PythonSoftwareFoundation.Python.3.11_3.11.1776.0_x64__qbz5n2kfra8p0\\Lib\\tkinter\\__init__.py:2879\u001b[0m, in \u001b[0;36mCanvas.delete\u001b[1;34m(self, *args)\u001b[0m\n\u001b[0;32m   2877\u001b[0m \u001b[38;5;28;01mdef\u001b[39;00m \u001b[38;5;21mdelete\u001b[39m(\u001b[38;5;28mself\u001b[39m, \u001b[38;5;241m*\u001b[39margs):\n\u001b[0;32m   2878\u001b[0m \u001b[38;5;250m    \u001b[39m\u001b[38;5;124;03m\"\"\"Delete items identified by all tag or ids contained in ARGS.\"\"\"\u001b[39;00m\n\u001b[1;32m-> 2879\u001b[0m     \u001b[38;5;28;43mself\u001b[39;49m\u001b[38;5;241;43m.\u001b[39;49m\u001b[43mtk\u001b[49m\u001b[38;5;241;43m.\u001b[39;49m\u001b[43mcall\u001b[49m\u001b[43m(\u001b[49m\u001b[43m(\u001b[49m\u001b[38;5;28;43mself\u001b[39;49m\u001b[38;5;241;43m.\u001b[39;49m\u001b[43m_w\u001b[49m\u001b[43m,\u001b[49m\u001b[43m \u001b[49m\u001b[38;5;124;43m'\u001b[39;49m\u001b[38;5;124;43mdelete\u001b[39;49m\u001b[38;5;124;43m'\u001b[39;49m\u001b[43m)\u001b[49m\u001b[43m \u001b[49m\u001b[38;5;241;43m+\u001b[39;49m\u001b[43m \u001b[49m\u001b[43margs\u001b[49m\u001b[43m)\u001b[49m\n",
      "\u001b[1;31mTclError\u001b[0m: invalid command name \".!canvas\""
     ]
    }
   ],
   "source": [
    "run_simulation(T=10000,xrate=.05,yrate=.05)"
   ]
  },
  {
   "cell_type": "code",
   "execution_count": null,
   "id": "b23de5a1-53f6-4083-9e34-ffd150089792",
   "metadata": {},
   "outputs": [],
   "source": [
    "arrivals = []\n",
    "for i in range(20):\n",
    "    arrivals.append(run_simulation(500, quit_on_end=True))\n",
    "\n",
    "print(arrivals)"
   ]
  },
  {
   "cell_type": "code",
   "execution_count": 80,
   "id": "6239325d-5fe3-44b1-8f6b-0aa1f4101698",
   "metadata": {},
   "outputs": [
    {
     "name": "stdout",
     "output_type": "stream",
     "text": [
      "[29, 28, 35, 27, 26, 25, 22, 16, 24, 22, 30, 22, 31, 26, 37, 20, 30, 21, 22, 22]\n"
     ]
    }
   ],
   "source": [
    "arrivals = []\n",
    "\n",
    "for j in range(20):\n",
    "    input = random.random()\n",
    "    cum_func = 0\n",
    "    i = 0\n",
    "    while (cum_func < input):\n",
    "        dens_func = ((xrate*T)**i)*math.exp(-xrate*T)/math.factorial(i)\n",
    "        cum_func += dens_func\n",
    "        i += 1\n",
    "    arrivals.append(i)\n",
    "\n",
    "print(arrivals)"
   ]
  }
 ],
 "metadata": {
  "kernelspec": {
   "display_name": "Python 3 (ipykernel)",
   "language": "python",
   "name": "python3"
  },
  "language_info": {
   "codemirror_mode": {
    "name": "ipython",
    "version": 3
   },
   "file_extension": ".py",
   "mimetype": "text/x-python",
   "name": "python",
   "nbconvert_exporter": "python",
   "pygments_lexer": "ipython3",
   "version": "3.11.6"
  }
 },
 "nbformat": 4,
 "nbformat_minor": 5
}
